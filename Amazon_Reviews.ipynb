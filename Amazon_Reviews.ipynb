{
  "cells": [
    {
      "cell_type": "markdown",
      "metadata": {
        "id": "view-in-github",
        "colab_type": "text"
      },
      "source": [
        "<a href=\"https://colab.research.google.com/github/jaredguting/colab-projects/blob/main/Amazon_Reviews.ipynb\" target=\"_parent\"><img src=\"https://colab.research.google.com/assets/colab-badge.svg\" alt=\"Open In Colab\"/></a>"
      ]
    },
    {
      "cell_type": "code",
      "execution_count": 1,
      "metadata": {
        "colab": {
          "base_uri": "https://localhost:8080/"
        },
        "id": "l1xv-Qrx_GR2",
        "outputId": "af228ba7-7d91-4030-d038-cba08d127706"
      },
      "outputs": [
        {
          "output_type": "stream",
          "name": "stdout",
          "text": [
            "Requirement already satisfied: goslate in /usr/local/lib/python3.10/dist-packages (1.5.4)\n",
            "Requirement already satisfied: futures in /usr/local/lib/python3.10/dist-packages (from goslate) (3.0.5)\n"
          ]
        }
      ],
      "source": [
        "!pip install goslate"
      ]
    },
    {
      "cell_type": "code",
      "execution_count": 2,
      "metadata": {
        "colab": {
          "base_uri": "https://localhost:8080/"
        },
        "id": "gpUTj13F_U16",
        "outputId": "0b0125ba-daf4-4749-a97f-a280a7f12b7e"
      },
      "outputs": [
        {
          "output_type": "stream",
          "name": "stdout",
          "text": [
            "Mounted at /content/drive\n"
          ]
        }
      ],
      "source": [
        "import pandas as pd\n",
        "import goslate\n",
        "from google.colab import drive\n",
        "drive.mount('/content/drive')"
      ]
    },
    {
      "cell_type": "code",
      "execution_count": 3,
      "metadata": {
        "colab": {
          "base_uri": "https://localhost:8080/",
          "height": 597
        },
        "id": "SHUTs6RH_jC6",
        "outputId": "04272134-7831-48a5-c277-ccd1f2a69df9"
      },
      "outputs": [
        {
          "output_type": "execute_result",
          "data": {
            "text/plain": [
              "                 id        profileName  \\\n",
              "0    R13Z1BSD70DMKJ                Dan   \n",
              "1     R6WKS7YWOKMBL            kdfuser   \n",
              "2     R2MCPJMRB3G23  Marcel Dupasquier   \n",
              "3    R17D6VX0MH3SZY          Dear MR.J   \n",
              "4    R20RZ5QNLXDI9T    CxegCfiJjXRfuN9   \n",
              "..              ...                ...   \n",
              "440  R2EO5SV3ZSGPE2     Umakanta majhi   \n",
              "441  R3S4V7KFVW0CY3    priyanshu anand   \n",
              "442  R1XUP48DXHEKX4            Milutin   \n",
              "443   RCSYMY3XZ8NGH           ムッシュおっさん   \n",
              "444  R34EM75QX06ARB                 張穎   \n",
              "\n",
              "                                                  text  \\\n",
              "0    \\n  Have had this for one day and the cover is...   \n",
              "1    \\n  Just finished the book and followed the co...   \n",
              "2    \\n  For all who want to compare the 1st to the...   \n",
              "3    \\n  What is good about it? It teaches you the ...   \n",
              "4    \\n  Let me preface this review by saying that ...   \n",
              "..                                                 ...   \n",
              "440                                      \\n  Not bad\\n   \n",
              "441                                         \\n  Good\\n   \n",
              "442                                       \\n  Merci!\\n   \n",
              "443  \\n  内容に関してはとても満足していますが、作りは雑で読んでいくうちにカバーがはがれてきま...   \n",
              "444                                         \\n  非常喜欢\\n   \n",
              "\n",
              "                                                  date  \\\n",
              "0        Reviewed in the United States on July 4, 2019   \n",
              "1     Reviewed in the United States on August 15, 2019   \n",
              "2        Reviewed in the United States on May 23, 2019   \n",
              "3       Reviewed in the United States on June 29, 2019   \n",
              "4    Reviewed in the United States on February 9, 2020   \n",
              "..                                                 ...   \n",
              "440               Reviewed in India on August 19, 2020   \n",
              "441                Reviewed in India on March 13, 2021   \n",
              "442                 Reviewed in France on June 2, 2020   \n",
              "443               Reviewed in Japan on January 3, 2021   \n",
              "444                Reviewed in Japan on August 1, 2020   \n",
              "\n",
              "                                                 title  rating  \\\n",
              "0    Great inner content! Not that great outer qual...       4   \n",
              "1                                  Very enjoyable read       5   \n",
              "2                                  The updated preface       5   \n",
              "3    Good for beginner but does not go too far or deep       4   \n",
              "4                                   Worth Every Penny!       5   \n",
              "..                                                 ...     ...   \n",
              "440                                            Not bad       1   \n",
              "441                                               Good       5   \n",
              "442                                              Super       5   \n",
              "443                                      内容はとても良い、作りは×       4   \n",
              "444                                               非常实用       5   \n",
              "\n",
              "                                                images  \n",
              "0                                                  NaN  \n",
              "1    https://images-na.ssl-images-amazon.com/images...  \n",
              "2    https://images-na.ssl-images-amazon.com/images...  \n",
              "3                                                  NaN  \n",
              "4                                                  NaN  \n",
              "..                                                 ...  \n",
              "440                                                NaN  \n",
              "441                                                NaN  \n",
              "442                                                NaN  \n",
              "443                                                NaN  \n",
              "444                                                NaN  \n",
              "\n",
              "[445 rows x 7 columns]"
            ],
            "text/html": [
              "\n",
              "  <div id=\"df-a3fcde04-44a7-4380-a2e9-76e9200d89e8\" class=\"colab-df-container\">\n",
              "    <div>\n",
              "<style scoped>\n",
              "    .dataframe tbody tr th:only-of-type {\n",
              "        vertical-align: middle;\n",
              "    }\n",
              "\n",
              "    .dataframe tbody tr th {\n",
              "        vertical-align: top;\n",
              "    }\n",
              "\n",
              "    .dataframe thead th {\n",
              "        text-align: right;\n",
              "    }\n",
              "</style>\n",
              "<table border=\"1\" class=\"dataframe\">\n",
              "  <thead>\n",
              "    <tr style=\"text-align: right;\">\n",
              "      <th></th>\n",
              "      <th>id</th>\n",
              "      <th>profileName</th>\n",
              "      <th>text</th>\n",
              "      <th>date</th>\n",
              "      <th>title</th>\n",
              "      <th>rating</th>\n",
              "      <th>images</th>\n",
              "    </tr>\n",
              "  </thead>\n",
              "  <tbody>\n",
              "    <tr>\n",
              "      <th>0</th>\n",
              "      <td>R13Z1BSD70DMKJ</td>\n",
              "      <td>Dan</td>\n",
              "      <td>\\n  Have had this for one day and the cover is...</td>\n",
              "      <td>Reviewed in the United States on July 4, 2019</td>\n",
              "      <td>Great inner content! Not that great outer qual...</td>\n",
              "      <td>4</td>\n",
              "      <td>NaN</td>\n",
              "    </tr>\n",
              "    <tr>\n",
              "      <th>1</th>\n",
              "      <td>R6WKS7YWOKMBL</td>\n",
              "      <td>kdfuser</td>\n",
              "      <td>\\n  Just finished the book and followed the co...</td>\n",
              "      <td>Reviewed in the United States on August 15, 2019</td>\n",
              "      <td>Very enjoyable read</td>\n",
              "      <td>5</td>\n",
              "      <td>https://images-na.ssl-images-amazon.com/images...</td>\n",
              "    </tr>\n",
              "    <tr>\n",
              "      <th>2</th>\n",
              "      <td>R2MCPJMRB3G23</td>\n",
              "      <td>Marcel Dupasquier</td>\n",
              "      <td>\\n  For all who want to compare the 1st to the...</td>\n",
              "      <td>Reviewed in the United States on May 23, 2019</td>\n",
              "      <td>The updated preface</td>\n",
              "      <td>5</td>\n",
              "      <td>https://images-na.ssl-images-amazon.com/images...</td>\n",
              "    </tr>\n",
              "    <tr>\n",
              "      <th>3</th>\n",
              "      <td>R17D6VX0MH3SZY</td>\n",
              "      <td>Dear MR.J</td>\n",
              "      <td>\\n  What is good about it? It teaches you the ...</td>\n",
              "      <td>Reviewed in the United States on June 29, 2019</td>\n",
              "      <td>Good for beginner but does not go too far or deep</td>\n",
              "      <td>4</td>\n",
              "      <td>NaN</td>\n",
              "    </tr>\n",
              "    <tr>\n",
              "      <th>4</th>\n",
              "      <td>R20RZ5QNLXDI9T</td>\n",
              "      <td>CxegCfiJjXRfuN9</td>\n",
              "      <td>\\n  Let me preface this review by saying that ...</td>\n",
              "      <td>Reviewed in the United States on February 9, 2020</td>\n",
              "      <td>Worth Every Penny!</td>\n",
              "      <td>5</td>\n",
              "      <td>NaN</td>\n",
              "    </tr>\n",
              "    <tr>\n",
              "      <th>...</th>\n",
              "      <td>...</td>\n",
              "      <td>...</td>\n",
              "      <td>...</td>\n",
              "      <td>...</td>\n",
              "      <td>...</td>\n",
              "      <td>...</td>\n",
              "      <td>...</td>\n",
              "    </tr>\n",
              "    <tr>\n",
              "      <th>440</th>\n",
              "      <td>R2EO5SV3ZSGPE2</td>\n",
              "      <td>Umakanta majhi</td>\n",
              "      <td>\\n  Not bad\\n</td>\n",
              "      <td>Reviewed in India on August 19, 2020</td>\n",
              "      <td>Not bad</td>\n",
              "      <td>1</td>\n",
              "      <td>NaN</td>\n",
              "    </tr>\n",
              "    <tr>\n",
              "      <th>441</th>\n",
              "      <td>R3S4V7KFVW0CY3</td>\n",
              "      <td>priyanshu anand</td>\n",
              "      <td>\\n  Good\\n</td>\n",
              "      <td>Reviewed in India on March 13, 2021</td>\n",
              "      <td>Good</td>\n",
              "      <td>5</td>\n",
              "      <td>NaN</td>\n",
              "    </tr>\n",
              "    <tr>\n",
              "      <th>442</th>\n",
              "      <td>R1XUP48DXHEKX4</td>\n",
              "      <td>Milutin</td>\n",
              "      <td>\\n  Merci!\\n</td>\n",
              "      <td>Reviewed in France on June 2, 2020</td>\n",
              "      <td>Super</td>\n",
              "      <td>5</td>\n",
              "      <td>NaN</td>\n",
              "    </tr>\n",
              "    <tr>\n",
              "      <th>443</th>\n",
              "      <td>RCSYMY3XZ8NGH</td>\n",
              "      <td>ムッシュおっさん</td>\n",
              "      <td>\\n  内容に関してはとても満足していますが、作りは雑で読んでいくうちにカバーがはがれてきま...</td>\n",
              "      <td>Reviewed in Japan on January 3, 2021</td>\n",
              "      <td>内容はとても良い、作りは×</td>\n",
              "      <td>4</td>\n",
              "      <td>NaN</td>\n",
              "    </tr>\n",
              "    <tr>\n",
              "      <th>444</th>\n",
              "      <td>R34EM75QX06ARB</td>\n",
              "      <td>張穎</td>\n",
              "      <td>\\n  非常喜欢\\n</td>\n",
              "      <td>Reviewed in Japan on August 1, 2020</td>\n",
              "      <td>非常实用</td>\n",
              "      <td>5</td>\n",
              "      <td>NaN</td>\n",
              "    </tr>\n",
              "  </tbody>\n",
              "</table>\n",
              "<p>445 rows × 7 columns</p>\n",
              "</div>\n",
              "    <div class=\"colab-df-buttons\">\n",
              "\n",
              "  <div class=\"colab-df-container\">\n",
              "    <button class=\"colab-df-convert\" onclick=\"convertToInteractive('df-a3fcde04-44a7-4380-a2e9-76e9200d89e8')\"\n",
              "            title=\"Convert this dataframe to an interactive table.\"\n",
              "            style=\"display:none;\">\n",
              "\n",
              "  <svg xmlns=\"http://www.w3.org/2000/svg\" height=\"24px\" viewBox=\"0 -960 960 960\">\n",
              "    <path d=\"M120-120v-720h720v720H120Zm60-500h600v-160H180v160Zm220 220h160v-160H400v160Zm0 220h160v-160H400v160ZM180-400h160v-160H180v160Zm440 0h160v-160H620v160ZM180-180h160v-160H180v160Zm440 0h160v-160H620v160Z\"/>\n",
              "  </svg>\n",
              "    </button>\n",
              "\n",
              "  <style>\n",
              "    .colab-df-container {\n",
              "      display:flex;\n",
              "      gap: 12px;\n",
              "    }\n",
              "\n",
              "    .colab-df-convert {\n",
              "      background-color: #E8F0FE;\n",
              "      border: none;\n",
              "      border-radius: 50%;\n",
              "      cursor: pointer;\n",
              "      display: none;\n",
              "      fill: #1967D2;\n",
              "      height: 32px;\n",
              "      padding: 0 0 0 0;\n",
              "      width: 32px;\n",
              "    }\n",
              "\n",
              "    .colab-df-convert:hover {\n",
              "      background-color: #E2EBFA;\n",
              "      box-shadow: 0px 1px 2px rgba(60, 64, 67, 0.3), 0px 1px 3px 1px rgba(60, 64, 67, 0.15);\n",
              "      fill: #174EA6;\n",
              "    }\n",
              "\n",
              "    .colab-df-buttons div {\n",
              "      margin-bottom: 4px;\n",
              "    }\n",
              "\n",
              "    [theme=dark] .colab-df-convert {\n",
              "      background-color: #3B4455;\n",
              "      fill: #D2E3FC;\n",
              "    }\n",
              "\n",
              "    [theme=dark] .colab-df-convert:hover {\n",
              "      background-color: #434B5C;\n",
              "      box-shadow: 0px 1px 3px 1px rgba(0, 0, 0, 0.15);\n",
              "      filter: drop-shadow(0px 1px 2px rgba(0, 0, 0, 0.3));\n",
              "      fill: #FFFFFF;\n",
              "    }\n",
              "  </style>\n",
              "\n",
              "    <script>\n",
              "      const buttonEl =\n",
              "        document.querySelector('#df-a3fcde04-44a7-4380-a2e9-76e9200d89e8 button.colab-df-convert');\n",
              "      buttonEl.style.display =\n",
              "        google.colab.kernel.accessAllowed ? 'block' : 'none';\n",
              "\n",
              "      async function convertToInteractive(key) {\n",
              "        const element = document.querySelector('#df-a3fcde04-44a7-4380-a2e9-76e9200d89e8');\n",
              "        const dataTable =\n",
              "          await google.colab.kernel.invokeFunction('convertToInteractive',\n",
              "                                                    [key], {});\n",
              "        if (!dataTable) return;\n",
              "\n",
              "        const docLinkHtml = 'Like what you see? Visit the ' +\n",
              "          '<a target=\"_blank\" href=https://colab.research.google.com/notebooks/data_table.ipynb>data table notebook</a>'\n",
              "          + ' to learn more about interactive tables.';\n",
              "        element.innerHTML = '';\n",
              "        dataTable['output_type'] = 'display_data';\n",
              "        await google.colab.output.renderOutput(dataTable, element);\n",
              "        const docLink = document.createElement('div');\n",
              "        docLink.innerHTML = docLinkHtml;\n",
              "        element.appendChild(docLink);\n",
              "      }\n",
              "    </script>\n",
              "  </div>\n",
              "\n",
              "\n",
              "<div id=\"df-1befb39b-ef80-49d1-b335-2f984d994c5f\">\n",
              "  <button class=\"colab-df-quickchart\" onclick=\"quickchart('df-1befb39b-ef80-49d1-b335-2f984d994c5f')\"\n",
              "            title=\"Suggest charts\"\n",
              "            style=\"display:none;\">\n",
              "\n",
              "<svg xmlns=\"http://www.w3.org/2000/svg\" height=\"24px\"viewBox=\"0 0 24 24\"\n",
              "     width=\"24px\">\n",
              "    <g>\n",
              "        <path d=\"M19 3H5c-1.1 0-2 .9-2 2v14c0 1.1.9 2 2 2h14c1.1 0 2-.9 2-2V5c0-1.1-.9-2-2-2zM9 17H7v-7h2v7zm4 0h-2V7h2v10zm4 0h-2v-4h2v4z\"/>\n",
              "    </g>\n",
              "</svg>\n",
              "  </button>\n",
              "\n",
              "<style>\n",
              "  .colab-df-quickchart {\n",
              "      --bg-color: #E8F0FE;\n",
              "      --fill-color: #1967D2;\n",
              "      --hover-bg-color: #E2EBFA;\n",
              "      --hover-fill-color: #174EA6;\n",
              "      --disabled-fill-color: #AAA;\n",
              "      --disabled-bg-color: #DDD;\n",
              "  }\n",
              "\n",
              "  [theme=dark] .colab-df-quickchart {\n",
              "      --bg-color: #3B4455;\n",
              "      --fill-color: #D2E3FC;\n",
              "      --hover-bg-color: #434B5C;\n",
              "      --hover-fill-color: #FFFFFF;\n",
              "      --disabled-bg-color: #3B4455;\n",
              "      --disabled-fill-color: #666;\n",
              "  }\n",
              "\n",
              "  .colab-df-quickchart {\n",
              "    background-color: var(--bg-color);\n",
              "    border: none;\n",
              "    border-radius: 50%;\n",
              "    cursor: pointer;\n",
              "    display: none;\n",
              "    fill: var(--fill-color);\n",
              "    height: 32px;\n",
              "    padding: 0;\n",
              "    width: 32px;\n",
              "  }\n",
              "\n",
              "  .colab-df-quickchart:hover {\n",
              "    background-color: var(--hover-bg-color);\n",
              "    box-shadow: 0 1px 2px rgba(60, 64, 67, 0.3), 0 1px 3px 1px rgba(60, 64, 67, 0.15);\n",
              "    fill: var(--button-hover-fill-color);\n",
              "  }\n",
              "\n",
              "  .colab-df-quickchart-complete:disabled,\n",
              "  .colab-df-quickchart-complete:disabled:hover {\n",
              "    background-color: var(--disabled-bg-color);\n",
              "    fill: var(--disabled-fill-color);\n",
              "    box-shadow: none;\n",
              "  }\n",
              "\n",
              "  .colab-df-spinner {\n",
              "    border: 2px solid var(--fill-color);\n",
              "    border-color: transparent;\n",
              "    border-bottom-color: var(--fill-color);\n",
              "    animation:\n",
              "      spin 1s steps(1) infinite;\n",
              "  }\n",
              "\n",
              "  @keyframes spin {\n",
              "    0% {\n",
              "      border-color: transparent;\n",
              "      border-bottom-color: var(--fill-color);\n",
              "      border-left-color: var(--fill-color);\n",
              "    }\n",
              "    20% {\n",
              "      border-color: transparent;\n",
              "      border-left-color: var(--fill-color);\n",
              "      border-top-color: var(--fill-color);\n",
              "    }\n",
              "    30% {\n",
              "      border-color: transparent;\n",
              "      border-left-color: var(--fill-color);\n",
              "      border-top-color: var(--fill-color);\n",
              "      border-right-color: var(--fill-color);\n",
              "    }\n",
              "    40% {\n",
              "      border-color: transparent;\n",
              "      border-right-color: var(--fill-color);\n",
              "      border-top-color: var(--fill-color);\n",
              "    }\n",
              "    60% {\n",
              "      border-color: transparent;\n",
              "      border-right-color: var(--fill-color);\n",
              "    }\n",
              "    80% {\n",
              "      border-color: transparent;\n",
              "      border-right-color: var(--fill-color);\n",
              "      border-bottom-color: var(--fill-color);\n",
              "    }\n",
              "    90% {\n",
              "      border-color: transparent;\n",
              "      border-bottom-color: var(--fill-color);\n",
              "    }\n",
              "  }\n",
              "</style>\n",
              "\n",
              "  <script>\n",
              "    async function quickchart(key) {\n",
              "      const quickchartButtonEl =\n",
              "        document.querySelector('#' + key + ' button');\n",
              "      quickchartButtonEl.disabled = true;  // To prevent multiple clicks.\n",
              "      quickchartButtonEl.classList.add('colab-df-spinner');\n",
              "      try {\n",
              "        const charts = await google.colab.kernel.invokeFunction(\n",
              "            'suggestCharts', [key], {});\n",
              "      } catch (error) {\n",
              "        console.error('Error during call to suggestCharts:', error);\n",
              "      }\n",
              "      quickchartButtonEl.classList.remove('colab-df-spinner');\n",
              "      quickchartButtonEl.classList.add('colab-df-quickchart-complete');\n",
              "    }\n",
              "    (() => {\n",
              "      let quickchartButtonEl =\n",
              "        document.querySelector('#df-1befb39b-ef80-49d1-b335-2f984d994c5f button');\n",
              "      quickchartButtonEl.style.display =\n",
              "        google.colab.kernel.accessAllowed ? 'block' : 'none';\n",
              "    })();\n",
              "  </script>\n",
              "</div>\n",
              "    </div>\n",
              "  </div>\n"
            ],
            "application/vnd.google.colaboratory.intrinsic+json": {
              "type": "dataframe",
              "variable_name": "df",
              "summary": "{\n  \"name\": \"df\",\n  \"rows\": 445,\n  \"fields\": [\n    {\n      \"column\": \"id\",\n      \"properties\": {\n        \"dtype\": \"string\",\n        \"num_unique_values\": 445,\n        \"samples\": [\n          \"R2XT206LZ7838P\",\n          \"R3JYHAFVR8DTBG\",\n          \"R2KV5Z202E7SXP\"\n        ],\n        \"semantic_type\": \"\",\n        \"description\": \"\"\n      }\n    },\n    {\n      \"column\": \"profileName\",\n      \"properties\": {\n        \"dtype\": \"string\",\n        \"num_unique_values\": 404,\n        \"samples\": [\n          \"Brittany\",\n          \"xyz\",\n          \"stuart oconnor\"\n        ],\n        \"semantic_type\": \"\",\n        \"description\": \"\"\n      }\n    },\n    {\n      \"column\": \"text\",\n      \"properties\": {\n        \"dtype\": \"string\",\n        \"num_unique_values\": 439,\n        \"samples\": [\n          \"\\n  Really liked this book....until it actually fell away from the binding making it impossible to read. Shoddy book making from either amazon or no starch press.Book content is very good for beginners and must say really enjoying it.....\\n\",\n          \"\\n  Unfortunately I have to agree the glue at the base of the book, is not adhering to the pages.Other wise great information, in a manageable, section read. That wants you to do the actual work. An not just read it.\\n\",\n          \"\\n  All basic concepts of programming and algorithms are well explained <3it has funny-professional exercises and projects that are awesome to do a basic portfolio for beginners.JUST BUY IT <3\\n\"\n        ],\n        \"semantic_type\": \"\",\n        \"description\": \"\"\n      }\n    },\n    {\n      \"column\": \"date\",\n      \"properties\": {\n        \"dtype\": \"string\",\n        \"num_unique_values\": 389,\n        \"samples\": [\n          \"Reviewed in Canada on March 1, 2020\",\n          \"Reviewed in the United States on September 22, 2020\",\n          \"Reviewed in the United States on February 28, 2020\"\n        ],\n        \"semantic_type\": \"\",\n        \"description\": \"\"\n      }\n    },\n    {\n      \"column\": \"title\",\n      \"properties\": {\n        \"dtype\": \"string\",\n        \"num_unique_values\": 423,\n        \"samples\": [\n          \"Great Course\",\n          \"Fantastic (Kindle versoin)\",\n          \"Great condition!\"\n        ],\n        \"semantic_type\": \"\",\n        \"description\": \"\"\n      }\n    },\n    {\n      \"column\": \"rating\",\n      \"properties\": {\n        \"dtype\": \"number\",\n        \"std\": 1,\n        \"min\": 1,\n        \"max\": 5,\n        \"num_unique_values\": 5,\n        \"samples\": [\n          5,\n          2,\n          3\n        ],\n        \"semantic_type\": \"\",\n        \"description\": \"\"\n      }\n    },\n    {\n      \"column\": \"images\",\n      \"properties\": {\n        \"dtype\": \"category\",\n        \"num_unique_values\": 42,\n        \"samples\": [\n          \"https://images-na.ssl-images-amazon.com/images/I/61HGvCaj8ML.jpg\",\n          \"https://images-na.ssl-images-amazon.com/images/I/816zCDdPtyL.jpg\",\n          \"https://images-na.ssl-images-amazon.com/images/I/71Uuh4zVXBL.jpg\"\n        ],\n        \"semantic_type\": \"\",\n        \"description\": \"\"\n      }\n    }\n  ]\n}"
            }
          },
          "metadata": {},
          "execution_count": 3
        }
      ],
      "source": [
        "dir_name = '/content/drive/MyDrive/Colab Notebooks/Datasets/'\n",
        "df = pd.read_csv(f\"{dir_name}amazon_reviews.csv\")\n",
        "df"
      ]
    },
    {
      "cell_type": "code",
      "execution_count": 4,
      "metadata": {
        "id": "5OJKDKbn_4Qc"
      },
      "outputs": [],
      "source": [
        "def translate_text(text, target_language='en'):\n",
        "    gs = goslate.Goslate()\n",
        "    translation = gs.translate(text, target_language)\n",
        "    return translation"
      ]
    },
    {
      "cell_type": "code",
      "execution_count": 5,
      "metadata": {
        "colab": {
          "base_uri": "https://localhost:8080/"
        },
        "id": "1R7t3Qgb_9NK",
        "outputId": "db3d8139-c44f-4182-8af7-b9356f3ef17b"
      },
      "outputs": [
        {
          "output_type": "stream",
          "name": "stdout",
          "text": [
            "The number of reviews: 445\n",
            "                                               title  rating\n",
            "0  Great inner content! Not that great outer qual...       4\n",
            "1                                Very enjoyable read       5\n",
            "2                                The updated preface       5\n",
            "3  Good for beginner but does not go too far or deep       4\n",
            "4                                 Worth Every Penny!       5\n",
            "5                                 Easy to understand       5\n",
            "6                             Great book for python.       5\n",
            "7                   Not bad, but some disappointment       4\n",
            "8  Truely for the person that doesn't know how to...       3\n",
            "9        Easy to Follow, Good Intro for Self Learner       5\n"
          ]
        }
      ],
      "source": [
        "print(f'The number of reviews: {len(df)}')\n",
        "print(df[['title', 'rating']].head(10))"
      ]
    },
    {
      "cell_type": "code",
      "execution_count": 6,
      "metadata": {
        "id": "djSyB33r_6hC"
      },
      "outputs": [],
      "source": [
        "title_df = df[['title']].copy()"
      ]
    },
    {
      "cell_type": "code",
      "execution_count": 7,
      "metadata": {
        "id": "WJpLuDpeAC5y"
      },
      "outputs": [],
      "source": [
        "title_df['translated_title'] = title_df['title'].apply(translate_text)"
      ]
    },
    {
      "cell_type": "code",
      "execution_count": 8,
      "metadata": {
        "id": "0VF_DUT1AHjK"
      },
      "outputs": [],
      "source": [
        "translateddf = title_df['translated_title']"
      ]
    },
    {
      "cell_type": "code",
      "execution_count": 10,
      "metadata": {
        "id": "AjDspCV4PniG"
      },
      "outputs": [],
      "source": [
        "from sklearn.model_selection import train_test_split\n",
        "from sklearn.feature_extraction.text import CountVectorizer\n",
        "\n",
        "reviews = title_df['translated_title'].values\n",
        "ratings = df['rating'].values\n",
        "reviews_train, reviews_test, y_train, y_test = train_test_split(reviews, ratings, test_size=0.2, random_state=500)\n",
        "\n",
        "vectorizer = CountVectorizer()\n",
        "vectorizer.fit(reviews_train)\n",
        "\n",
        "x_train = vectorizer.transform(reviews_train)\n",
        "x_test = vectorizer.transform(reviews_test)"
      ]
    },
    {
      "cell_type": "code",
      "execution_count": 11,
      "metadata": {
        "colab": {
          "base_uri": "https://localhost:8080/",
          "height": 74
        },
        "id": "JUFPMLAERdj1",
        "outputId": "aab3e1dc-2754-4f10-a317-e51d1ab69768"
      },
      "outputs": [
        {
          "output_type": "execute_result",
          "data": {
            "text/plain": [
              "LogisticRegression()"
            ],
            "text/html": [
              "<style>#sk-container-id-1 {color: black;background-color: white;}#sk-container-id-1 pre{padding: 0;}#sk-container-id-1 div.sk-toggleable {background-color: white;}#sk-container-id-1 label.sk-toggleable__label {cursor: pointer;display: block;width: 100%;margin-bottom: 0;padding: 0.3em;box-sizing: border-box;text-align: center;}#sk-container-id-1 label.sk-toggleable__label-arrow:before {content: \"▸\";float: left;margin-right: 0.25em;color: #696969;}#sk-container-id-1 label.sk-toggleable__label-arrow:hover:before {color: black;}#sk-container-id-1 div.sk-estimator:hover label.sk-toggleable__label-arrow:before {color: black;}#sk-container-id-1 div.sk-toggleable__content {max-height: 0;max-width: 0;overflow: hidden;text-align: left;background-color: #f0f8ff;}#sk-container-id-1 div.sk-toggleable__content pre {margin: 0.2em;color: black;border-radius: 0.25em;background-color: #f0f8ff;}#sk-container-id-1 input.sk-toggleable__control:checked~div.sk-toggleable__content {max-height: 200px;max-width: 100%;overflow: auto;}#sk-container-id-1 input.sk-toggleable__control:checked~label.sk-toggleable__label-arrow:before {content: \"▾\";}#sk-container-id-1 div.sk-estimator input.sk-toggleable__control:checked~label.sk-toggleable__label {background-color: #d4ebff;}#sk-container-id-1 div.sk-label input.sk-toggleable__control:checked~label.sk-toggleable__label {background-color: #d4ebff;}#sk-container-id-1 input.sk-hidden--visually {border: 0;clip: rect(1px 1px 1px 1px);clip: rect(1px, 1px, 1px, 1px);height: 1px;margin: -1px;overflow: hidden;padding: 0;position: absolute;width: 1px;}#sk-container-id-1 div.sk-estimator {font-family: monospace;background-color: #f0f8ff;border: 1px dotted black;border-radius: 0.25em;box-sizing: border-box;margin-bottom: 0.5em;}#sk-container-id-1 div.sk-estimator:hover {background-color: #d4ebff;}#sk-container-id-1 div.sk-parallel-item::after {content: \"\";width: 100%;border-bottom: 1px solid gray;flex-grow: 1;}#sk-container-id-1 div.sk-label:hover label.sk-toggleable__label {background-color: #d4ebff;}#sk-container-id-1 div.sk-serial::before {content: \"\";position: absolute;border-left: 1px solid gray;box-sizing: border-box;top: 0;bottom: 0;left: 50%;z-index: 0;}#sk-container-id-1 div.sk-serial {display: flex;flex-direction: column;align-items: center;background-color: white;padding-right: 0.2em;padding-left: 0.2em;position: relative;}#sk-container-id-1 div.sk-item {position: relative;z-index: 1;}#sk-container-id-1 div.sk-parallel {display: flex;align-items: stretch;justify-content: center;background-color: white;position: relative;}#sk-container-id-1 div.sk-item::before, #sk-container-id-1 div.sk-parallel-item::before {content: \"\";position: absolute;border-left: 1px solid gray;box-sizing: border-box;top: 0;bottom: 0;left: 50%;z-index: -1;}#sk-container-id-1 div.sk-parallel-item {display: flex;flex-direction: column;z-index: 1;position: relative;background-color: white;}#sk-container-id-1 div.sk-parallel-item:first-child::after {align-self: flex-end;width: 50%;}#sk-container-id-1 div.sk-parallel-item:last-child::after {align-self: flex-start;width: 50%;}#sk-container-id-1 div.sk-parallel-item:only-child::after {width: 0;}#sk-container-id-1 div.sk-dashed-wrapped {border: 1px dashed gray;margin: 0 0.4em 0.5em 0.4em;box-sizing: border-box;padding-bottom: 0.4em;background-color: white;}#sk-container-id-1 div.sk-label label {font-family: monospace;font-weight: bold;display: inline-block;line-height: 1.2em;}#sk-container-id-1 div.sk-label-container {text-align: center;}#sk-container-id-1 div.sk-container {/* jupyter's `normalize.less` sets `[hidden] { display: none; }` but bootstrap.min.css set `[hidden] { display: none !important; }` so we also need the `!important` here to be able to override the default hidden behavior on the sphinx rendered scikit-learn.org. See: https://github.com/scikit-learn/scikit-learn/issues/21755 */display: inline-block !important;position: relative;}#sk-container-id-1 div.sk-text-repr-fallback {display: none;}</style><div id=\"sk-container-id-1\" class=\"sk-top-container\"><div class=\"sk-text-repr-fallback\"><pre>LogisticRegression()</pre><b>In a Jupyter environment, please rerun this cell to show the HTML representation or trust the notebook. <br />On GitHub, the HTML representation is unable to render, please try loading this page with nbviewer.org.</b></div><div class=\"sk-container\" hidden><div class=\"sk-item\"><div class=\"sk-estimator sk-toggleable\"><input class=\"sk-toggleable__control sk-hidden--visually\" id=\"sk-estimator-id-1\" type=\"checkbox\" checked><label for=\"sk-estimator-id-1\" class=\"sk-toggleable__label sk-toggleable__label-arrow\">LogisticRegression</label><div class=\"sk-toggleable__content\"><pre>LogisticRegression()</pre></div></div></div></div></div>"
            ]
          },
          "metadata": {},
          "execution_count": 11
        }
      ],
      "source": [
        "from sklearn.linear_model import LogisticRegression\n",
        "\n",
        "clf = LogisticRegression()\n",
        "clf.fit(x_train, y_train)"
      ]
    },
    {
      "cell_type": "code",
      "execution_count": 12,
      "metadata": {
        "colab": {
          "base_uri": "https://localhost:8080/"
        },
        "id": "sudHL98WRrgm",
        "outputId": "4f179c44-5064-41b4-b4f7-ae6f4bb89768"
      },
      "outputs": [
        {
          "output_type": "stream",
          "name": "stdout",
          "text": [
            "Accuracy 0.78\n"
          ]
        }
      ],
      "source": [
        "import numpy as np\n",
        "pred = clf.predict(x_test)\n",
        "acc = np.mean(pred == y_test)\n",
        "print(f\"Accuracy {acc:.2f}\")"
      ]
    }
  ],
  "metadata": {
    "colab": {
      "provenance": [],
      "authorship_tag": "ABX9TyP1Ozz9TZGeYS/9zS2hhrs4",
      "include_colab_link": true
    },
    "kernelspec": {
      "display_name": "Python 3",
      "name": "python3"
    },
    "language_info": {
      "name": "python"
    }
  },
  "nbformat": 4,
  "nbformat_minor": 0
}